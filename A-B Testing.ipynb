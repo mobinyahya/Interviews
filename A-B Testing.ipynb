{
 "cells": [
  {
   "cell_type": "code",
   "execution_count": 1,
   "metadata": {},
   "outputs": [],
   "source": [
    "# Packages imports\n",
    "import numpy as np\n",
    "import pandas as pd\n",
    "import scipy.stats as stats\n",
    "import statsmodels.stats.api as sms\n",
    "import matplotlib as mpl\n",
    "import matplotlib.pyplot as plt\n",
    "import seaborn as sns\n",
    "from math import ceil\n",
    "\n",
    "%matplotlib inline\n",
    "\n",
    "# Some plot styling preferences\n",
    "plt.style.use('seaborn-whitegrid')\n",
    "font = {'family' : 'Helvetica',\n",
    "        'weight' : 'bold',\n",
    "        'size'   : 14}\n",
    "\n",
    "mpl.rc('font', **font)"
   ]
  },
  {
   "cell_type": "code",
   "execution_count": 16,
   "metadata": {},
   "outputs": [
    {
     "name": "stdout",
     "output_type": "stream",
     "text": [
      "effect_size  -0.0576728617308947\n",
      "4720\n"
     ]
    }
   ],
   "source": [
    "effect_size = sms.proportion_effectsize(0.13, 0.15)  # Effect Size: measure of the magnitude of a phenomenon. \n",
    "# Difference between 0.13 and 0.15, standardized by their variability.\n",
    "\n",
    "required_n = sms.NormalIndPower().solve_power(       # Calculates the required sample size based on the inputs\n",
    "    effect_size,                                     # Probability that it correctly rejects a false H0\n",
    "    power=0.8,                                       # Desired power of the test to 0.8\n",
    "    alpha=0.05,                                      # Significance level to 0.05\n",
    "    ratio=1                                          # Ratio of sample sizes in two groups to 1 (based on different ratio values, might need different sample sizes)\n",
    "    )                                                \n",
    "\n",
    "required_n = ceil(required_n)                        # Rounds up to the next whole number                          \n",
    "\n",
    "print(required_n)\n"
   ]
  },
  {
   "cell_type": "code",
   "execution_count": 33,
   "metadata": {},
   "outputs": [
    {
     "name": "stdout",
     "output_type": "stream",
     "text": [
      "<class 'pandas.core.frame.DataFrame'>\n",
      "RangeIndex: 294478 entries, 0 to 294477\n",
      "Data columns (total 5 columns):\n",
      " #   Column        Non-Null Count   Dtype \n",
      "---  ------        --------------   ----- \n",
      " 0   user_id       294478 non-null  int64 \n",
      " 1   timestamp     294478 non-null  object\n",
      " 2   group         294478 non-null  object\n",
      " 3   landing_page  294478 non-null  object\n",
      " 4   converted     294478 non-null  int64 \n",
      "dtypes: int64(2), object(3)\n",
      "memory usage: 11.2+ MB\n"
     ]
    },
    {
     "data": {
      "text/html": [
       "<div>\n",
       "<style scoped>\n",
       "    .dataframe tbody tr th:only-of-type {\n",
       "        vertical-align: middle;\n",
       "    }\n",
       "\n",
       "    .dataframe tbody tr th {\n",
       "        vertical-align: top;\n",
       "    }\n",
       "\n",
       "    .dataframe thead th {\n",
       "        text-align: right;\n",
       "    }\n",
       "</style>\n",
       "<table border=\"1\" class=\"dataframe\">\n",
       "  <thead>\n",
       "    <tr style=\"text-align: right;\">\n",
       "      <th></th>\n",
       "      <th>user_id</th>\n",
       "      <th>timestamp</th>\n",
       "      <th>group</th>\n",
       "      <th>landing_page</th>\n",
       "      <th>converted</th>\n",
       "    </tr>\n",
       "  </thead>\n",
       "  <tbody>\n",
       "    <tr>\n",
       "      <th>0</th>\n",
       "      <td>851104</td>\n",
       "      <td>2017-01-21 22:11:48.556739</td>\n",
       "      <td>control</td>\n",
       "      <td>old_page</td>\n",
       "      <td>0</td>\n",
       "    </tr>\n",
       "    <tr>\n",
       "      <th>1</th>\n",
       "      <td>804228</td>\n",
       "      <td>2017-01-12 08:01:45.159739</td>\n",
       "      <td>control</td>\n",
       "      <td>old_page</td>\n",
       "      <td>0</td>\n",
       "    </tr>\n",
       "    <tr>\n",
       "      <th>2</th>\n",
       "      <td>661590</td>\n",
       "      <td>2017-01-11 16:55:06.154213</td>\n",
       "      <td>treatment</td>\n",
       "      <td>new_page</td>\n",
       "      <td>0</td>\n",
       "    </tr>\n",
       "    <tr>\n",
       "      <th>3</th>\n",
       "      <td>853541</td>\n",
       "      <td>2017-01-08 18:28:03.143765</td>\n",
       "      <td>treatment</td>\n",
       "      <td>new_page</td>\n",
       "      <td>0</td>\n",
       "    </tr>\n",
       "    <tr>\n",
       "      <th>4</th>\n",
       "      <td>864975</td>\n",
       "      <td>2017-01-21 01:52:26.210827</td>\n",
       "      <td>control</td>\n",
       "      <td>old_page</td>\n",
       "      <td>1</td>\n",
       "    </tr>\n",
       "  </tbody>\n",
       "</table>\n",
       "</div>"
      ],
      "text/plain": [
       "   user_id                   timestamp      group landing_page  converted\n",
       "0   851104  2017-01-21 22:11:48.556739    control     old_page          0\n",
       "1   804228  2017-01-12 08:01:45.159739    control     old_page          0\n",
       "2   661590  2017-01-11 16:55:06.154213  treatment     new_page          0\n",
       "3   853541  2017-01-08 18:28:03.143765  treatment     new_page          0\n",
       "4   864975  2017-01-21 01:52:26.210827    control     old_page          1"
      ]
     },
     "execution_count": 33,
     "metadata": {},
     "output_type": "execute_result"
    }
   ],
   "source": [
    "\n",
    "file_path = '/Users/mobin/Documents/quant finance Interview/My interviews/Kaggle/'\n",
    "df = pd.read_csv(file_path + 'ab_data.csv')\n",
    "\n",
    "df.info()\n",
    "df.head()\n",
    "\n"
   ]
  },
  {
   "cell_type": "code",
   "execution_count": 34,
   "metadata": {},
   "outputs": [
    {
     "data": {
      "text/html": [
       "<div>\n",
       "<style scoped>\n",
       "    .dataframe tbody tr th:only-of-type {\n",
       "        vertical-align: middle;\n",
       "    }\n",
       "\n",
       "    .dataframe tbody tr th {\n",
       "        vertical-align: top;\n",
       "    }\n",
       "\n",
       "    .dataframe thead th {\n",
       "        text-align: right;\n",
       "    }\n",
       "</style>\n",
       "<table border=\"1\" class=\"dataframe\">\n",
       "  <thead>\n",
       "    <tr style=\"text-align: right;\">\n",
       "      <th>landing_page</th>\n",
       "      <th>new_page</th>\n",
       "      <th>old_page</th>\n",
       "    </tr>\n",
       "    <tr>\n",
       "      <th>group</th>\n",
       "      <th></th>\n",
       "      <th></th>\n",
       "    </tr>\n",
       "  </thead>\n",
       "  <tbody>\n",
       "    <tr>\n",
       "      <th>control</th>\n",
       "      <td>1928</td>\n",
       "      <td>145274</td>\n",
       "    </tr>\n",
       "    <tr>\n",
       "      <th>treatment</th>\n",
       "      <td>145311</td>\n",
       "      <td>1965</td>\n",
       "    </tr>\n",
       "  </tbody>\n",
       "</table>\n",
       "</div>"
      ],
      "text/plain": [
       "landing_page  new_page  old_page\n",
       "group                           \n",
       "control           1928    145274\n",
       "treatment       145311      1965"
      ]
     },
     "execution_count": 34,
     "metadata": {},
     "output_type": "execute_result"
    }
   ],
   "source": [
    "# To make sure all the control group are seeing the old page and viceversa\n",
    "# Ideally instead of 1928 or 1965, would be zero. But it's still ok\n",
    "pd.crosstab(df['group'], df['landing_page'])"
   ]
  },
  {
   "cell_type": "code",
   "execution_count": 38,
   "metadata": {},
   "outputs": [
    {
     "name": "stdout",
     "output_type": "stream",
     "text": [
      "There are  3894  users that appear multiple times in the dataset\n"
     ]
    }
   ],
   "source": [
    "print('There are ', len(df[\"user_id\"]) - len(df[\"user_id\"].unique()) ,' users that appear multiple times in the dataset')\n",
    "\n",
    "# Count occurrences of each user_id\n",
    "user_counts = df['user_id'].value_counts()\n",
    "\n",
    "# Identify user_ids that appear more than once\n",
    "duplicate_users = user_counts[user_counts > 1].index\n",
    "\n",
    "# Filter the DataFrame to exclude these user_ids\n",
    "df = df[~df['user_id'].isin(duplicate_users)]\n"
   ]
  },
  {
   "cell_type": "code",
   "execution_count": 43,
   "metadata": {},
   "outputs": [
    {
     "name": "stdout",
     "output_type": "stream",
     "text": [
      "<class 'pandas.core.frame.DataFrame'>\n",
      "RangeIndex: 9440 entries, 0 to 9439\n",
      "Data columns (total 5 columns):\n",
      " #   Column        Non-Null Count  Dtype \n",
      "---  ------        --------------  ----- \n",
      " 0   user_id       9440 non-null   int64 \n",
      " 1   timestamp     9440 non-null   object\n",
      " 2   group         9440 non-null   object\n",
      " 3   landing_page  9440 non-null   object\n",
      " 4   converted     9440 non-null   int64 \n",
      "dtypes: int64(2), object(3)\n",
      "memory usage: 368.9+ KB\n"
     ]
    },
    {
     "data": {
      "text/plain": [
       "control      4720\n",
       "treatment    4720\n",
       "Name: group, dtype: int64"
      ]
     },
     "execution_count": 43,
     "metadata": {},
     "output_type": "execute_result"
    }
   ],
   "source": [
    "control_sample = df[df['group'] == 'control'].sample(n=required_n, random_state=22)\n",
    "treatment_sample = df[df['group'] == 'treatment'].sample(n=required_n, random_state=22)\n",
    "\n",
    "ab_test = pd.concat([control_sample, treatment_sample], axis=0)\n",
    "ab_test.reset_index(drop=True, inplace=True)\n",
    "ab_test.info()\n",
    "ab_test['group'].value_counts()"
   ]
  },
  {
   "cell_type": "code",
   "execution_count": 60,
   "metadata": {},
   "outputs": [
    {
     "name": "stdout",
     "output_type": "stream",
     "text": [
      "conversion_rate  group\n",
      "control      0.123305\n",
      "treatment    0.125636\n",
      "Name: converted, dtype: float64\n",
      "std_deviation  group\n",
      "control      0.328787\n",
      "treatment    0.331438\n",
      "Name: converted, dtype: float64\n",
      "conversion_rates.         group  conversion_rate  std_deviation  std_error\n",
      "0    control         0.123305       0.328787   0.004786\n",
      "1  treatment         0.125636       0.331438   0.004824\n"
     ]
    }
   ],
   "source": [
    "# Calculate conversion rate (mean)\n",
    "conversion_rate = ab_test.groupby('group')['converted'].mean()\n",
    "print(\"conversion_rate \", conversion_rate)\n",
    "\n",
    "# Calculate standard deviation\n",
    "std_deviation = ab_test.groupby('group')['converted'].std(ddof=0)                         # Std. deviation of the proportion\n",
    "# ddof=0 p: use standard deviation formula for the entire population (n degrees of freedom)\n",
    "print(\"std_deviation \", std_deviation)\n",
    "\n",
    "# Calculate standard error\n",
    "std_error = ab_test.groupby('group')['converted'].apply(lambda x: stats.sem(x, ddof=0))   # Std. error of the proportion (std / sqrt(n))\n",
    "\n",
    "# Combine results into a single DataFrame\n",
    "conversion_rates = pd.DataFrame({\n",
    "    'conversion_rate': conversion_rate,\n",
    "    'std_deviation': std_deviation,\n",
    "    'std_error': std_error\n",
    "})\n",
    "\n",
    "# Formatting the output for display\n",
    "conversion_rates = conversion_rates.reset_index()\n",
    "print(\"conversion_rates. \", conversion_rates)\n",
    "# conversion_rates.style.format('{:.3f}')\n"
   ]
  },
  {
   "cell_type": "code",
   "execution_count": 61,
   "metadata": {},
   "outputs": [
    {
     "name": "stdout",
     "output_type": "stream",
     "text": [
      "z statistic: -0.34\n",
      "p-value: 0.732\n",
      "ci 95% for control group: [0.114, 0.133]\n",
      "ci 95% for treatment group: [0.116, 0.135]\n"
     ]
    }
   ],
   "source": [
    "from statsmodels.stats.proportion import proportions_ztest, proportion_confint\n",
    "\n",
    "control_results = ab_test[ab_test['group'] == 'control']['converted']\n",
    "treatment_results = ab_test[ab_test['group'] == 'treatment']['converted']\n",
    "\n",
    "n_con = control_results.count()                              # Number of observations in each group\n",
    "n_treat = treatment_results.count()                          # Number of observations in the treatment group\n",
    "successes = [control_results.sum(), treatment_results.sum()] # Number of successes (conversions) in each group\n",
    "nobs = [n_con, n_treat]                                      # Number of observations for each group\n",
    "\n",
    "# Perform a proportion z-test to compare conversion rates between groups\n",
    "z_stat, pval = proportions_ztest(successes, nobs=nobs)\n",
    "# Calculate the 95% confidence intervals for the proportion of conversions in each group\n",
    "(lower_con, lower_treat), (upper_con, upper_treat) = proportion_confint(successes, nobs=nobs, alpha=0.05)\n",
    "                                                                        \n",
    "print(f'z statistic: {z_stat:.2f}')\n",
    "print(f'p-value: {pval:.3f}')\n",
    "print(f'ci 95% for control group: [{lower_con:.3f}, {upper_con:.3f}]')\n",
    "print(f'ci 95% for treatment group: [{lower_treat:.3f}, {upper_treat:.3f}]')"
   ]
  },
  {
   "cell_type": "code",
   "execution_count": 71,
   "metadata": {},
   "outputs": [
    {
     "name": "stdout",
     "output_type": "stream",
     "text": [
      "Control group 95% CI: (0.1185, 0.1219)\n",
      "Treatment group 95% CI: (0.1171, 0.1204)\n",
      "Z-statistic: -1.1945\n",
      "P-value: 0.2323\n",
      "Fail to reject the null hypothesis. There is not enough evidence to conclude a significant difference in conversion rates.\n",
      "The confidence intervals overlap, suggesting the difference may not be significant.\n"
     ]
    }
   ],
   "source": [
    "from statsmodels.stats.proportion import proportions_ztest, proportion_confint\n",
    "\n",
    "control_group = df[df['group'] == 'control']\n",
    "treatment_group = df[df['group'] == 'treatment']\n",
    "\n",
    "n_control = len(control_group)\n",
    "n_treatment = len(treatment_group)\n",
    "\n",
    "conversions_control = control_group['converted'].sum()\n",
    "conversions_treatment = treatment_group['converted'].sum()\n",
    "\n",
    "# Step 2: Perform z-test using proportions_ztest\n",
    "count = np.array([conversions_treatment, conversions_control])\n",
    "nobs = np.array([n_treatment, n_control])\n",
    "\n",
    "z_statistic, p_value = proportions_ztest(count, nobs, alternative='two-sided')\n",
    "\n",
    "\n",
    "# Step 4: Calculate confidence intervals\n",
    "confidence_level = 0.95  # 95% confidence interval\n",
    "ci_control = proportion_confint(count=conversions_control, nobs=n_control, alpha=0.05)\n",
    "ci_treatment = proportion_confint(count=conversions_treatment, nobs=n_treatment, alpha=0.05)\n",
    "\n",
    "# Step 5: Print results\n",
    "print(f\"Control group 95% CI: ({ci_control[0]:.4f}, {ci_control[1]:.4f})\")\n",
    "print(f\"Treatment group 95% CI: ({ci_treatment[0]:.4f}, {ci_treatment[1]:.4f})\")\n",
    "print(f\"Z-statistic: {z_statistic:.4f}\")\n",
    "print(f\"P-value: {p_value:.4f}\")\n",
    "\n",
    "# Step 6: Interpret results\n",
    "alpha = 0.05  # Typical significance level\n",
    "if p_value < alpha:\n",
    "    print(\"Reject the null hypothesis. There is a significant difference in conversion rates.\")\n",
    "else:\n",
    "    print(\"Fail to reject the null hypothesis. There is not enough evidence to conclude a significant difference in conversion rates.\")\n",
    "\n",
    "# Step 7: Check if confidence intervals overlap\n",
    "if ci_control[1] < ci_treatment[0] or ci_treatment[1] < ci_control[0]:\n",
    "    print(\"The confidence intervals do not overlap, suggesting a significant difference.\")\n",
    "else:\n",
    "    print(\"The confidence intervals overlap, suggesting the difference may not be significant.\")"
   ]
  },
  {
   "cell_type": "code",
   "execution_count": null,
   "metadata": {},
   "outputs": [],
   "source": []
  }
 ],
 "metadata": {
  "kernelspec": {
   "display_name": "sfusd-project",
   "language": "python",
   "name": "python3"
  },
  "language_info": {
   "codemirror_mode": {
    "name": "ipython",
    "version": 3
   },
   "file_extension": ".py",
   "mimetype": "text/x-python",
   "name": "python",
   "nbconvert_exporter": "python",
   "pygments_lexer": "ipython3",
   "version": "3.7.7"
  }
 },
 "nbformat": 4,
 "nbformat_minor": 2
}
